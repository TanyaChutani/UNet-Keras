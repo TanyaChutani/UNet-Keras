{
  "nbformat": 4,
  "nbformat_minor": 0,
  "metadata": {
    "colab": {
      "name": "UNET.ipynb",
      "provenance": [],
      "collapsed_sections": [],
      "toc_visible": true
    },
    "kernelspec": {
      "name": "python3",
      "display_name": "Python 3"
    },
    "accelerator": "TPU"
  },
  "cells": [
    {
      "cell_type": "code",
      "metadata": {
        "id": "Afl605RsAv_O",
        "colab_type": "code",
        "outputId": "df693325-c455-4397-f5ab-0df624a8f3c5",
        "colab": {
          "base_uri": "https://localhost:8080/",
          "height": 122
        }
      },
      "source": [
        "from google.colab import drive\n",
        "drive.mount('/content/drive')"
      ],
      "execution_count": 1,
      "outputs": [
        {
          "output_type": "stream",
          "text": [
            "Go to this URL in a browser: https://accounts.google.com/o/oauth2/auth?client_id=947318989803-6bn6qk8qdgf4n4g3pfee6491hc0brc4i.apps.googleusercontent.com&redirect_uri=urn%3aietf%3awg%3aoauth%3a2.0%3aoob&response_type=code&scope=email%20https%3a%2f%2fwww.googleapis.com%2fauth%2fdocs.test%20https%3a%2f%2fwww.googleapis.com%2fauth%2fdrive%20https%3a%2f%2fwww.googleapis.com%2fauth%2fdrive.photos.readonly%20https%3a%2f%2fwww.googleapis.com%2fauth%2fpeopleapi.readonly\n",
            "\n",
            "Enter your authorization code:\n",
            "··········\n",
            "Mounted at /content/drive\n"
          ],
          "name": "stdout"
        }
      ]
    },
    {
      "cell_type": "code",
      "metadata": {
        "id": "7Z0_wb2tk-4s",
        "colab_type": "code",
        "outputId": "11503ef1-b38a-4794-aef8-ab0401fcc987",
        "colab": {
          "base_uri": "https://localhost:8080/",
          "height": 85
        }
      },
      "source": [
        "import tensorflow as tf\n",
        "print(tf.__version__)\n",
        "import numpy as np\n",
        "import pandas as pd\n",
        "import nltk\n",
        "import cv2\n",
        "import os\n",
        "import string\n",
        "import tensorflow as tf\n",
        "from google.colab.patches import cv2_imshow\n",
        "from glob import glob\n",
        "from collections import Counter\n",
        "from keras.preprocessing.text import Tokenizer\n",
        "import matplotlib.pyplot as plt\n",
        "from tensorflow.python.keras.preprocessing.sequence import pad_sequences\n",
        "from tensorflow.python.keras.callbacks import ModelCheckpoint\n",
        "from tensorflow.python.keras.engine.input_layer import Input\n",
        "#from tensorflow.python.keras.utils import to_categorical\n",
        "from nltk.stem import WordNetLemmatizer\n",
        "from tensorflow.python.keras.models import Model, load_model\n",
        "from wordcloud import WordCloud, STOPWORDS \n",
        "from tensorflow.python.keras.layers import GRU,Conv2D,MaxPooling2D,Conv2DTranspose,Dropout,concatenate,Activation\n",
        "from tensorflow.python.keras.models import Model\n",
        "from tensorflow.python.keras.preprocessing.image import ImageDataGenerator\n",
        "from tensorflow.keras.optimizers import Adam\n",
        "from skimage.io import imread, imshow, imread_collection, concatenate_images\n",
        "from skimage.transform import resize\n",
        "import pickle\n",
        "import itertools\n",
        "import pdb\n",
        "import tqdm\n",
        "nltk.download('wordnet')"
      ],
      "execution_count": 17,
      "outputs": [
        {
          "output_type": "stream",
          "text": [
            "2.2.0-rc1\n",
            "[nltk_data] Downloading package wordnet to /root/nltk_data...\n",
            "[nltk_data]   Package wordnet is already up-to-date!\n"
          ],
          "name": "stdout"
        },
        {
          "output_type": "execute_result",
          "data": {
            "text/plain": [
              "True"
            ]
          },
          "metadata": {
            "tags": []
          },
          "execution_count": 17
        }
      ]
    },
    {
      "cell_type": "code",
      "metadata": {
        "id": "N2vHh_aMpp6e",
        "colab_type": "code",
        "colab": {}
      },
      "source": [
        "#Data read\n",
        "#Data generator\n",
        "#Model trainl"
      ],
      "execution_count": 0,
      "outputs": []
    },
    {
      "cell_type": "code",
      "metadata": {
        "id": "qSRMR1HJnaJL",
        "colab_type": "code",
        "colab": {}
      },
      "source": [
        "trainPath='/content/stage1_train'\n",
        "testPath='/content/stage1_test'\n",
        "def pathGeneration(trainPath,testPath):\n",
        "  xTrain={}\n",
        "  yTrain={}\n",
        "  for idx,name in enumerate(os.listdir(trainPath)):\n",
        "    xTrain[idx]=(trainPath+'/'+name+'/images/'+name+'.png')\n",
        "    for mask_imgs in os.listdir(trainPath+'/'+name+'/masks'):\n",
        "      if idx not in yTrain:\n",
        "        yTrain[idx]=list()\n",
        "      yTrain[idx].append(trainPath+'/'+name+'/masks/'+mask_imgs)\n",
        "  return xTrain,yTrain\n",
        "xTrain,yTrain=pathGeneration(trainPath,testPath)\n"
      ],
      "execution_count": 0,
      "outputs": []
    },
    {
      "cell_type": "code",
      "metadata": {
        "id": "7Z7JJG3hjSiZ",
        "colab_type": "code",
        "outputId": "ff44b8f7-cdd1-46c6-9628-4fe24238c6d4",
        "colab": {
          "base_uri": "https://localhost:8080/",
          "height": 34
        }
      },
      "source": [
        "len(xTrain)"
      ],
      "execution_count": 0,
      "outputs": [
        {
          "output_type": "execute_result",
          "data": {
            "text/plain": [
              "670"
            ]
          },
          "metadata": {
            "tags": []
          },
          "execution_count": 29
        }
      ]
    },
    {
      "cell_type": "code",
      "metadata": {
        "id": "k86FPintCdr3",
        "colab_type": "code",
        "outputId": "ab3c2944-5fb6-4928-d5fb-f598b45dc778",
        "colab": {
          "base_uri": "https://localhost:8080/",
          "height": 850
        }
      },
      "source": [
        "def preProcess(img_path):\n",
        "  channels=3\n",
        "  img=imread(img_path)[:,:,:channels]\n",
        "  dsize=(128,128)\n",
        "  img=resize(img,dsize)\n",
        "  imageExpand=np.expand_dims(img,axis=0)\n",
        "  #plt.imshow(img)\n",
        "  #plt.show()\n",
        "  #print(\"img\",img.shape)\n",
        "  #print(\"iexpand\",imageExpand.shape)\n",
        "  return img\n",
        "\n",
        "def maskFormation(folder_path):\n",
        "  dsize=(128,128)\n",
        "  mask=np.zeros((128,128,1),dtype=np.bool)\n",
        "  for file in folder_path:\n",
        "    img=imread(file)\n",
        "    img=np.expand_dims(resize(img,dsize),axis=-1)\n",
        "    mask=np.maximum(mask,img)\n",
        "  maskExpand=np.expand_dims(mask,axis=0)\n",
        "  #plt.imshow(np.squeeze(mask))\n",
        "  #plt.show()\n",
        "  \n",
        "  #print(\"img\",mask.shape)\n",
        "  #print(\"iexpand\",maskExpand.shape)\n",
        "  return mask\n",
        "    \n",
        "preProcess(xTrain[19])\n",
        "maskFormation(yTrain[19])  \n"
      ],
      "execution_count": 14,
      "outputs": [
        {
          "output_type": "execute_result",
          "data": {
            "text/plain": [
              "array([[[0.],\n",
              "        [0.],\n",
              "        [0.],\n",
              "        ...,\n",
              "        [0.],\n",
              "        [0.],\n",
              "        [0.]],\n",
              "\n",
              "       [[0.],\n",
              "        [0.],\n",
              "        [0.],\n",
              "        ...,\n",
              "        [0.],\n",
              "        [0.],\n",
              "        [0.]],\n",
              "\n",
              "       [[0.],\n",
              "        [0.],\n",
              "        [0.],\n",
              "        ...,\n",
              "        [0.],\n",
              "        [0.],\n",
              "        [0.]],\n",
              "\n",
              "       ...,\n",
              "\n",
              "       [[0.],\n",
              "        [0.],\n",
              "        [0.],\n",
              "        ...,\n",
              "        [0.],\n",
              "        [0.],\n",
              "        [0.]],\n",
              "\n",
              "       [[0.],\n",
              "        [0.],\n",
              "        [0.],\n",
              "        ...,\n",
              "        [0.],\n",
              "        [0.],\n",
              "        [0.]],\n",
              "\n",
              "       [[0.],\n",
              "        [0.],\n",
              "        [0.],\n",
              "        ...,\n",
              "        [0.],\n",
              "        [0.],\n",
              "        [0.]]])"
            ]
          },
          "metadata": {
            "tags": []
          },
          "execution_count": 14
        }
      ]
    },
    {
      "cell_type": "code",
      "metadata": {
        "id": "fm43f-YIKW6q",
        "colab_type": "code",
        "colab": {}
      },
      "source": [
        "def dataGen(xTrain,yTrain,batchSize,epochs):\n",
        "  for j in range(0,epochs):\n",
        "    for i in range(0, len(xTrain)//batchSize):\n",
        "      batchX=[]\n",
        "      batchY=[]\n",
        "      index=np.random.randint(0,len(xTrain),batchSize)\n",
        "      for i in index:\n",
        "        batchX.append(preProcess(xTrain[i]))\n",
        "        batchY.append(maskFormation(yTrain[i]))\n",
        "      yield np.array(batchX),np.array(batchY)\n"
      ],
      "execution_count": 0,
      "outputs": []
    },
    {
      "cell_type": "code",
      "metadata": {
        "id": "wYJoipBAqln6",
        "colab_type": "code",
        "outputId": "2b172851-b62b-4d2a-cbc8-a61575776125",
        "colab": {
          "base_uri": "https://localhost:8080/",
          "height": 1000
        }
      },
      "source": [
        "\n",
        "def contraction_block(inputs,nfilter):\n",
        "  conv = Conv2D(filters=nfilter,kernel_size= (3,3), activation = 'relu', padding = 'same')(inputs)\n",
        "  conv = Conv2D(filters=nfilter, kernel_size=(3,3), activation = 'relu', padding = 'same')(conv)\n",
        "  pool = MaxPooling2D(pool_size=(2, 2))(conv)\n",
        "  return conv,pool\n",
        "\n",
        "def expansion_block(inputs,nfilter,residual):\n",
        "  transpose_conv=Conv2DTranspose(filters=nfilter,kernel_size=(3,3),strides=(2,2),padding='same')(inputs)\n",
        "  skip_connect=concatenate([transpose_conv,residual],axis=3)\n",
        "  conv=Conv2D(filters=nfilter,kernel_size=(3,3),activation='relu',padding='same')(skip_connect)\n",
        "  conv=Conv2D(filters=nfilter,kernel_size=(3,3),activation='relu',padding='same')(conv)\n",
        "  return conv\n",
        "\n",
        "def unet_model():\n",
        "  height=128\n",
        "  width=128\n",
        "  nclasses=1\n",
        "  filters=64\n",
        "  input_layer = Input(shape=(height,width,3))\n",
        "  #Contraction path 4 block\n",
        "  conv1,output1=contraction_block(input_layer,nfilter=filters*1)\n",
        "  conv2,output2=contraction_block(output1,nfilter=filters*2)\n",
        "  conv3,output3=contraction_block(output2,nfilter=filters*4)\n",
        "  conv4,output4=contraction_block(output3,nfilter=filters*8)\n",
        "  conv4=Dropout(0.5)(conv4)\n",
        "\n",
        "  conv5,output=contraction_block(output4,nfilter=filters*16)\n",
        "\n",
        "  #Expansion path 4 block\n",
        "  output6=expansion_block(inputs=conv5,nfilter=filters*8,residual=conv4)\n",
        "  output7=expansion_block(inputs=output6,nfilter=filters*4,residual=conv3)\n",
        "  output8=expansion_block(inputs=output7,nfilter=filters*2,residual=conv2)\n",
        "  output9=expansion_block(inputs=output8,nfilter=filters*1,residual=conv1)\n",
        "\n",
        "  #Output\n",
        "  output_layer = Conv2D(filters=nclasses, kernel_size=(1, 1),activation='sigmoid')(output9)\n",
        "  model=Model(inputs=input_layer,outputs=output_layer)\n",
        "  model.summary()\n",
        "  return model\n",
        "model=unet_model()\n"
      ],
      "execution_count": 9,
      "outputs": [
        {
          "output_type": "stream",
          "text": [
            "Model: \"model\"\n",
            "__________________________________________________________________________________________________\n",
            "Layer (type)                    Output Shape         Param #     Connected to                     \n",
            "==================================================================================================\n",
            "input_1 (InputLayer)            [(None, 128, 128, 3) 0                                            \n",
            "__________________________________________________________________________________________________\n",
            "conv2d (Conv2D)                 (None, 128, 128, 64) 1792        input_1[0][0]                    \n",
            "__________________________________________________________________________________________________\n",
            "conv2d_1 (Conv2D)               (None, 128, 128, 64) 36928       conv2d[0][0]                     \n",
            "__________________________________________________________________________________________________\n",
            "max_pooling2d (MaxPooling2D)    (None, 64, 64, 64)   0           conv2d_1[0][0]                   \n",
            "__________________________________________________________________________________________________\n",
            "conv2d_2 (Conv2D)               (None, 64, 64, 128)  73856       max_pooling2d[0][0]              \n",
            "__________________________________________________________________________________________________\n",
            "conv2d_3 (Conv2D)               (None, 64, 64, 128)  147584      conv2d_2[0][0]                   \n",
            "__________________________________________________________________________________________________\n",
            "max_pooling2d_1 (MaxPooling2D)  (None, 32, 32, 128)  0           conv2d_3[0][0]                   \n",
            "__________________________________________________________________________________________________\n",
            "conv2d_4 (Conv2D)               (None, 32, 32, 256)  295168      max_pooling2d_1[0][0]            \n",
            "__________________________________________________________________________________________________\n",
            "conv2d_5 (Conv2D)               (None, 32, 32, 256)  590080      conv2d_4[0][0]                   \n",
            "__________________________________________________________________________________________________\n",
            "max_pooling2d_2 (MaxPooling2D)  (None, 16, 16, 256)  0           conv2d_5[0][0]                   \n",
            "__________________________________________________________________________________________________\n",
            "conv2d_6 (Conv2D)               (None, 16, 16, 512)  1180160     max_pooling2d_2[0][0]            \n",
            "__________________________________________________________________________________________________\n",
            "conv2d_7 (Conv2D)               (None, 16, 16, 512)  2359808     conv2d_6[0][0]                   \n",
            "__________________________________________________________________________________________________\n",
            "max_pooling2d_3 (MaxPooling2D)  (None, 8, 8, 512)    0           conv2d_7[0][0]                   \n",
            "__________________________________________________________________________________________________\n",
            "conv2d_8 (Conv2D)               (None, 8, 8, 1024)   4719616     max_pooling2d_3[0][0]            \n",
            "__________________________________________________________________________________________________\n",
            "conv2d_9 (Conv2D)               (None, 8, 8, 1024)   9438208     conv2d_8[0][0]                   \n",
            "__________________________________________________________________________________________________\n",
            "conv2d_transpose (Conv2DTranspo (None, 16, 16, 512)  4719104     conv2d_9[0][0]                   \n",
            "__________________________________________________________________________________________________\n",
            "dropout (Dropout)               (None, 16, 16, 512)  0           conv2d_7[0][0]                   \n",
            "__________________________________________________________________________________________________\n",
            "concatenate (Concatenate)       (None, 16, 16, 1024) 0           conv2d_transpose[0][0]           \n",
            "                                                                 dropout[0][0]                    \n",
            "__________________________________________________________________________________________________\n",
            "conv2d_10 (Conv2D)              (None, 16, 16, 512)  4719104     concatenate[0][0]                \n",
            "__________________________________________________________________________________________________\n",
            "conv2d_11 (Conv2D)              (None, 16, 16, 512)  2359808     conv2d_10[0][0]                  \n",
            "__________________________________________________________________________________________________\n",
            "conv2d_transpose_1 (Conv2DTrans (None, 32, 32, 256)  1179904     conv2d_11[0][0]                  \n",
            "__________________________________________________________________________________________________\n",
            "concatenate_1 (Concatenate)     (None, 32, 32, 512)  0           conv2d_transpose_1[0][0]         \n",
            "                                                                 conv2d_5[0][0]                   \n",
            "__________________________________________________________________________________________________\n",
            "conv2d_12 (Conv2D)              (None, 32, 32, 256)  1179904     concatenate_1[0][0]              \n",
            "__________________________________________________________________________________________________\n",
            "conv2d_13 (Conv2D)              (None, 32, 32, 256)  590080      conv2d_12[0][0]                  \n",
            "__________________________________________________________________________________________________\n",
            "conv2d_transpose_2 (Conv2DTrans (None, 64, 64, 128)  295040      conv2d_13[0][0]                  \n",
            "__________________________________________________________________________________________________\n",
            "concatenate_2 (Concatenate)     (None, 64, 64, 256)  0           conv2d_transpose_2[0][0]         \n",
            "                                                                 conv2d_3[0][0]                   \n",
            "__________________________________________________________________________________________________\n",
            "conv2d_14 (Conv2D)              (None, 64, 64, 128)  295040      concatenate_2[0][0]              \n",
            "__________________________________________________________________________________________________\n",
            "conv2d_15 (Conv2D)              (None, 64, 64, 128)  147584      conv2d_14[0][0]                  \n",
            "__________________________________________________________________________________________________\n",
            "conv2d_transpose_3 (Conv2DTrans (None, 128, 128, 64) 73792       conv2d_15[0][0]                  \n",
            "__________________________________________________________________________________________________\n",
            "concatenate_3 (Concatenate)     (None, 128, 128, 128 0           conv2d_transpose_3[0][0]         \n",
            "                                                                 conv2d_1[0][0]                   \n",
            "__________________________________________________________________________________________________\n",
            "conv2d_16 (Conv2D)              (None, 128, 128, 64) 73792       concatenate_3[0][0]              \n",
            "__________________________________________________________________________________________________\n",
            "conv2d_17 (Conv2D)              (None, 128, 128, 64) 36928       conv2d_16[0][0]                  \n",
            "__________________________________________________________________________________________________\n",
            "conv2d_18 (Conv2D)              (None, 128, 128, 1)  65          conv2d_17[0][0]                  \n",
            "==================================================================================================\n",
            "Total params: 34,513,345\n",
            "Trainable params: 34,513,345\n",
            "Non-trainable params: 0\n",
            "__________________________________________________________________________________________________\n"
          ],
          "name": "stdout"
        }
      ]
    },
    {
      "cell_type": "code",
      "metadata": {
        "id": "s4rvb5idWaDf",
        "colab_type": "code",
        "outputId": "9c686f81-7a34-4977-cbcf-8f70c3db441a",
        "colab": {
          "base_uri": "https://localhost:8080/",
          "height": 768
        }
      },
      "source": [
        "batchSize=32\n",
        "epochs=20\n",
        "step_per_epoch=len(xTrain)//batchSize\n",
        "model.compile(optimizer=Adam(learning_rate=0.001),loss='binary_crossentropy',metrics=['accuracy'])\n",
        "filepath = '/content/model/model.h5'\n",
        "checkpoint = ModelCheckpoint(filepath, monitor='loss', save_best_only=True, mode='min')\n",
        "train_gen=dataGen((xTrain),(yTrain),batchSize,epochs)\n",
        "model.fit_generator(train_gen, epochs=20, steps_per_epoch=step_per_epoch,verbose=1,callbacks=[checkpoint])\n",
        "model.save_weights('/content/model/weights.hdf5')\n"
      ],
      "execution_count": 10,
      "outputs": [
        {
          "output_type": "stream",
          "text": [
            "WARNING:tensorflow:From <ipython-input-10-09dc5689006d>:8: Model.fit_generator (from tensorflow.python.keras.engine.training) is deprecated and will be removed in a future version.\n",
            "Instructions for updating:\n",
            "Please use Model.fit, which supports generators.\n",
            "Epoch 1/20\n",
            "20/20 [==============================] - 1415s 71s/step - loss: 0.5894 - accuracy: 0.7641\n",
            "Epoch 2/20\n",
            "20/20 [==============================] - 1447s 72s/step - loss: 0.3336 - accuracy: 0.7986\n",
            "Epoch 3/20\n",
            "20/20 [==============================] - 1407s 70s/step - loss: 0.2753 - accuracy: 0.7988\n",
            "Epoch 4/20\n",
            "20/20 [==============================] - 1422s 71s/step - loss: 0.2414 - accuracy: 0.7961\n",
            "Epoch 5/20\n",
            "20/20 [==============================] - 1491s 75s/step - loss: 0.2150 - accuracy: 0.8052\n",
            "Epoch 6/20\n",
            "20/20 [==============================] - 1375s 69s/step - loss: 0.1901 - accuracy: 0.8139\n",
            "Epoch 7/20\n",
            "20/20 [==============================] - 1312s 66s/step - loss: 0.1722 - accuracy: 0.8193\n",
            "Epoch 8/20\n",
            "20/20 [==============================] - 1385s 69s/step - loss: 0.1905 - accuracy: 0.8147\n",
            "Epoch 9/20\n",
            "20/20 [==============================] - 1401s 70s/step - loss: 0.1903 - accuracy: 0.8110\n",
            "Epoch 10/20\n",
            "20/20 [==============================] - 1360s 68s/step - loss: 0.1523 - accuracy: 0.8239\n",
            "Epoch 11/20\n",
            "20/20 [==============================] - 1358s 68s/step - loss: 0.1283 - accuracy: 0.8295\n",
            "Epoch 12/20\n",
            "20/20 [==============================] - 1489s 74s/step - loss: 0.1189 - accuracy: 0.8222\n",
            "Epoch 13/20\n",
            "20/20 [==============================] - 1302s 65s/step - loss: 0.1010 - accuracy: 0.8359\n",
            "Epoch 14/20\n",
            "20/20 [==============================] - 1383s 69s/step - loss: 0.0967 - accuracy: 0.8363\n",
            "Epoch 15/20\n",
            "20/20 [==============================] - 1467s 73s/step - loss: 0.0964 - accuracy: 0.8351\n",
            "Epoch 16/20\n",
            "20/20 [==============================] - 1387s 69s/step - loss: 0.0955 - accuracy: 0.8297\n",
            "Epoch 17/20\n",
            "20/20 [==============================] - 1452s 73s/step - loss: 0.0923 - accuracy: 0.8359\n",
            "Epoch 18/20\n",
            "20/20 [==============================] - 1395s 70s/step - loss: 0.0974 - accuracy: 0.8236\n",
            "Epoch 19/20\n",
            "20/20 [==============================] - 1337s 67s/step - loss: 0.0881 - accuracy: 0.8399\n",
            "Epoch 20/20\n",
            "20/20 [==============================] - 1282s 64s/step - loss: 0.0816 - accuracy: 0.8469\n"
          ],
          "name": "stdout"
        }
      ]
    },
    {
      "cell_type": "code",
      "metadata": {
        "id": "qwGvLwt-TnJd",
        "colab_type": "code",
        "colab": {
          "base_uri": "https://localhost:8080/",
          "height": 928
        },
        "outputId": "339d044a-7795-4daf-ec30-36a3209c3d08"
      },
      "source": [
        "model = load_model('/content/model/model.h5')\n",
        "predsTrain = model.predict(np.expand_dims(preProcess(xTrain[100]),axis=0))\n",
        "\n",
        "predsThreshold = (predsTrain > 0.5).astype(np.uint8)\n",
        "\n",
        "ix = 100\n",
        "imshow(preProcess(xTrain[ix]))\n",
        "plt.show()\n",
        "imshow(np.squeeze(maskFormation(yTrain[ix])))\n",
        "plt.show()\n",
        "imshow(np.squeeze(predsThreshold))\n",
        "plt.show()\n"
      ],
      "execution_count": 25,
      "outputs": [
        {
          "output_type": "stream",
          "text": [
            "WARNING:tensorflow:Error in loading the saved optimizer state. As a result, your model is starting with a freshly initialized optimizer.\n"
          ],
          "name": "stdout"
        },
        {
          "output_type": "display_data",
          "data": {
            "image/png": "[encoded data removed]",
            "text/plain": [
              "<Figure size 432x288 with 1 Axes>"
            ]
          },
          "metadata": {
            "tags": []
          }
        },
        {
          "output_type": "display_data",
          "data": {
            "image/png": "[encoded data removed]",
            "text/plain": [
              "<Figure size 432x288 with 1 Axes>"
            ]
          },
          "metadata": {
            "tags": []
          }
        },
        {
          "output_type": "stream",
          "text": [
            "/usr/local/lib/python3.6/dist-packages/skimage/io/_plugins/matplotlib_plugin.py:150: UserWarning: Low image data range; displaying image with stretched contrast.\n",
            "  lo, hi, cmap = _get_display_range(image)\n"
          ],
          "name": "stderr"
        },
        {
          "output_type": "display_data",
          "data": {
            "image/png": "[encoded data removed]",
            "text/plain": [
              "<Figure size 432x288 with 2 Axes>"
            ]
          },
          "metadata": {
            "tags": []
          }
        }
      ]
    }
  ]
}